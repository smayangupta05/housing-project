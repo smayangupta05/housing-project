{
 "cells": [
  {
   "cell_type": "code",
   "execution_count": 152,
   "metadata": {
    "deletable": false,
    "editable": false
  {
   "cell_type": "markdown",
   "metadata": {
    "nbgrader": {
     "grade": false,
     "grade_id": "cell-e0f9b2de18190d9d",
     "locked": true,
     "schema_version": 1,
     "solution": false
    }
   },
   "source": [
    "# Project A1: Exploring Cook County Housing\n",
    "\n",
    "## Due Date: Saturday, October 21st 11:59 PM PDT\n",
    "You must submit this assignment to Gradescope by the on-time deadline, Saturday, October at 11:59 PM. Please read the syllabus for the grace period policy. No late submissions beyond the grace period will be accepted. While course staff is happy to help you if you encounter difficulties with submission, we may not be able to respond to last-minute requests for assistance (TAs need to sleep, after all!). **We strongly encourage you to plan to submit your work to Gradescope several hours before the stated deadline.** This way, you will have ample time to reach out to staff for submission support. \n",
    "\n",
    "### Collaboration Policy\n",
    "\n",
    "Data science is a collaborative activity. While you may talk with others about the homework, we ask that you **write your solutions individually**. If you do discuss the assignments with others please **include their names** in the collaborators cell below."
   ]
  },
  {
   "cell_type": "markdown",
   "metadata": {},
   "source": [
    "**Collaborators:** *list names here*"
   ]
  },
  {
   "cell_type": "markdown",
   "metadata": {},
   "source": [
    "## Introduction\n",
    "\n",
    "This project explores what can be learned from an extensive housing dataset that is embedded in a dense social context in Cook County, Illinois.\n",
    "\n",
    "In project A1 (this assignment), we will guide you through some basic Exploratory Data Analysis (EDA) to understand the structure of the data. Next, you will be adding a few new features to the dataset, while cleaning the data as well in the process.\n",
    "\n",
    "In project A2 (the following assignment), you will specify and fit a linear model for the purpose of prediction. Finally, we will analyze the error of the model and brainstorm ways to improve the model's performance.\n",
    "\n",
    "\n",
    "## Grading\n",
    "Grading is broken down into autograded answers and free response. \n",
    "\n",
    "For autograded answers, the results of your code are compared to provided and/or hidden tests.\n",
    "\n",
    "For free response, readers will evaluate how well you answered the question and/or fulfilled the requirements of the question.\n",
    "\n",
    "Question | Manual | Points\n",
    "----|----|----\n",
    "1a | Yes | 1\n",
    "1b | Yes | 1\n",
    "1c | Yes | 1\n",
    "1d | Yes | 1\n",
    "2a | Yes | 1\n",
    "2b | No | 1\n",
    "3a | No | 1\n",
    "3b | No | 1\n",
    "3c | Yes | 1\n",
    "4 | No | 2\n",
    "5a | No | 1\n",
    "5b | No | 2\n",
    "5c | Yes | 2\n",
    "6a | No | 1\n",
    "6b | No | 2\n",
    "6c | No | 2\n",
    "6d | No | 1\n",
    "7a | No | 1\n",
    "7b | No | 2\n",
    "Total | 7 | 25"
   ]
  },
  {
   "cell_type": "code",
   "execution_count": 153,
   "metadata": {
    "nbgrader": {
     "grade": false,
     "grade_id": "cell-62cfd21463535cac",
     "locked": true,
     "schema_version": 1,
     "solution": false
    }
   },
   "outputs": [],
   "source": [
    "import numpy as np\n",
    "\n",
    "import pandas as pd\n",
    "\n",
    "%matplotlib inline\n",
    "import matplotlib.pyplot as plt\n",
    "import seaborn as sns\n",
    "\n",
    "import warnings\n",
    "warnings.filterwarnings(\"ignore\")\n",
    "\n",
    "import zipfile\n",
    "import os\n",
    "\n",
    "# Plot settings\n",
    "plt.rcParams['figure.figsize'] = (12, 9)\n",
    "plt.rcParams['font.size'] = 12"
   ]
  },
  {
   "cell_type": "markdown",
   "metadata": {},
   "source": [
    "<br/><br/>\n",
    "<hr style=\"border: 5px solid #003262;\" />\n",
    "<hr style=\"border: 1px solid #fdb515;\" />\n",
    "\n",
    "# The Data\n",
    "\n",
    "The dataset consists of over 500,000 records from Cook County, Illinois, the county where Chicago is located. The dataset has 61 features in total; the 62nd is `Sale Price`, which you will predict with linear regression in the next part of this project. An explanation of each variable can be found in the included `codebook.txt` file (you can optionally open this by first clicking the `data` folder, then clicking `codebook.txt` file in the navigation pane). Some of the columns have been filtered out to ensure this assignment doesn't become overly long when dealing with data cleaning and formatting.\n",
    "\n",
    "The data are split into training and test sets with 204,792 and 68,264 observations, respectively, but we will only be working on the training set for this part of the project.\n",
    "\n",
    "Let's first extract the data from the `cook_county_data.zip`. Notice we didn't leave the `csv` files directly in the directory because they take up too much space without some prior compression. Just run the cells below: "
   ]
  },
  {
   "cell_type": "code",
   "execution_count": 154,
   "metadata": {},
   "outputs": [],
   "source": [
    "with zipfile.ZipFile('data/cook_county_data.zip') as item:\n",
    "    item.extractall()"
   ]
  },
  {
   "cell_type": "markdown",
   "metadata": {},
   "source": [
    "Let's load the training data."
   ]
  },
  {
   "cell_type": "code",
   "execution_count": 155,
   "metadata": {
    "nbgrader": {
     "grade": false,
     "grade_id": "cell-e8fea30adc9d489b",
     "locked": true,
     "schema_version": 1,
     "solution": false
    }
   },
   "outputs": [],
   "source": [
    "training_data = pd.read_csv(\"cook_county_train.csv\", index_col='Unnamed: 0')"
   ]
  },
  {
   "cell_type": "markdown",
   "metadata": {
    "nbgrader": {
     "grade": false,
     "grade_id": "cell-9d6d509b6e854e10",
     "locked": true,
     "schema_version": 1,
     "solution": false
    }
   },
   "source": [
    "As a good sanity check, we should at least verify that the data shape matches the description."
   ]
  },
  {
   "cell_type": "code",
   "execution_count": 156,
   "metadata": {
    "nbgrader": {
     "grade": false,
     "grade_id": "cell-c841a2de55691502",
     "locked": true,
     "schema_version": 1,
     "solution": false
    }
   },
   "outputs": [],
   "source": [
    "# 204,792 observations and 62 features in training data\n",
    "assert training_data.shape == (204792, 62)\n",
    "# Sale Price is provided in the training data\n",
    "assert 'Sale Price' in training_data.columns.values"
   ]
  },
  {
   "cell_type": "markdown",
   "metadata": {
    "nbgrader": {
     "grade": false,
     "grade_id": "cell-ce9acc2f62c96e59",
     "locked": true,
     "schema_version": 1,
     "solution": false
    }
   },
   "source": [
    "The next order of business is getting a feel for the variables in our data.  A more detailed description of each variable is included in `codebook.txt` (in the same directory as this notebook).  **You should take some time to familiarize yourself with the codebook before moving forward.**\n",
    "\n",
    "Let's take a quick look at all the current columns in our training data."
   ]
  },
  {
   "cell_type": "code",
   "execution_count": 157,
   "metadata": {
    "nbgrader": {
     "grade": false,
     "grade_id": "cell-4e60a7a0cda5eecf",
     "locked": true,
     "schema_version": 1,
     "solution": false
    }
   },
   "outputs": [
    {
     "data": {
      "text/plain": [
       "array(['PIN', 'Property Class', 'Neighborhood Code', 'Land Square Feet',\n",
       "       'Town Code', 'Apartments', 'Wall Material', 'Roof Material',\n",
       "       'Basement', 'Basement Finish', 'Central Heating', 'Other Heating',\n",
       "       'Central Air', 'Fireplaces', 'Attic Type', 'Attic Finish',\n",
       "       'Design Plan', 'Cathedral Ceiling', 'Construction Quality',\n",
       "       'Site Desirability', 'Garage 1 Size', 'Garage 1 Material',\n",
       "       'Garage 1 Attachment', 'Garage 1 Area', 'Garage 2 Size',\n",
       "       'Garage 2 Material', 'Garage 2 Attachment', 'Garage 2 Area',\n",
       "       'Porch', 'Other Improvements', 'Building Square Feet',\n",
       "       'Repair Condition', 'Multi Code', 'Number of Commercial Units',\n",
       "       'Estimate (Land)', 'Estimate (Building)', 'Deed No.', 'Sale Price',\n",
       "       'Longitude', 'Latitude', 'Census Tract',\n",
       "       'Multi Property Indicator', 'Modeling Group', 'Age', 'Use',\n",
       "       \"O'Hare Noise\", 'Floodplain', 'Road Proximity', 'Sale Year',\n",
       "       'Sale Quarter', 'Sale Half-Year', 'Sale Quarter of Year',\n",
       "       'Sale Month of Year', 'Sale Half of Year', 'Most Recent Sale',\n",
       "       'Age Decade', 'Pure Market Filter', 'Garage Indicator',\n",
       "       'Neigborhood Code (mapping)', 'Town and Neighborhood',\n",
       "       'Description', 'Lot Size'], dtype=object)"
      ]
     },
     "execution_count": 157,
     "metadata": {},
     "output_type": "execute_result"
    }
   ],
   "source": [
    "training_data.columns.values"
   ]
  },
  {
   "cell_type": "code",
   "execution_count": 158,
   "metadata": {},
   "outputs": [
    {
     "data": {
      "text/plain": [
       "'This property, sold on 09/14/2015, is a one-story houeshold located at 2950 S LYMAN ST.It has a total of 6 rooms, 3 of which are bedrooms, and 1.0 of which are bathrooms.'"
      ]
     },
     "execution_count": 158,
     "metadata": {},
     "output_type": "execute_result"
    }
   ],
   "source": [
    "training_data['Description'][0]"
   ]
  },
  {
   "cell_type": "markdown",
   "metadata": {},
   "source": [
    "<br/><br/>\n",
    "<hr style=\"border: 1px solid #fdb515;\" />\n",
    "\n",
    "# Part 1: Contextualizing the Data\n",
    "\n",
    "Let's try to understand the background of our dataset before diving into a full-scale analysis. \n",
    "\n",
    "**Note**: We will explore this dataset and its social context in greater detail in Lecture 15: Case Study (HCE). For now, we ask you to familiarize yourself with the overall structure of the dataset and the information it contains."
   ]
  },
  {
   "cell_type": "markdown",
   "metadata": {
    "deletable": false,
    "editable": false
   },
   "source": [
    "<!-- BEGIN QUESTION -->\n",
    "\n",
    "<br><br>\n",
    "\n",
    "---\n",
    "\n",
    "## Question 1a\n",
    "\n",
    "Based on the columns in this dataset and the values that they take, what do you think each row represents? That is, what is the granularity of this dataset? "
   ]
  },
  {
   "cell_type": "markdown",
   "metadata": {},
   "source": [
    "Based on the columns in this dataset and the values that they take, each row represents a specific property or a real estate unit in Cook County, Illinois.  "
   ]
  },
  {
   "cell_type": "markdown",
   "metadata": {
    "deletable": false,
    "editable": false
   },
   "source": [
    "<!-- END QUESTION -->\n",
    "\n",
    "<!-- BEGIN QUESTION -->\n",
    "\n",
    "<br><br>\n",
    "\n",
    "---\n",
    "## Question 1b\n",
    "Why do you think this data was collected? For what purposes? By whom?\n",
    "\n",
    "This question calls for your speculation and is looking for thoughtfulness, not correctness. "
   ]
  },
  {
   "cell_type": "markdown",
   "metadata": {},
   "source": [
    "One group the data could be utilized for is the government to assess property value and taxation. Another group for example could urban planners to make decisions on zoning and infrastructure. "
   ]
  },
  {
   "cell_type": "markdown",
   "metadata": {
    "deletable": false,
    "editable": false
   },
   "source": [
    "<!-- END QUESTION -->\n",
    "\n",
    "<!-- BEGIN QUESTION -->\n",
    "\n",
    "<br><br>\n",
    "\n",
    "---\n",
    "## Question 1c\n",
    "\n",
    "Craft at least two questions about housing in Cook County that can be answered with this dataset and provide the type of analytical tool you would use to answer it (e.g. \"I would create a ___ plot of ___ and ___\" or \"I would calculate the ___ [summary statistic] for ___ and ____\"). Be sure to reference the columns that you would use and any additional datasets you would need to answer that question."
   ]
  },
  {
   "cell_type": "markdown",
   "metadata": {},
   "source": [
    "1. What is the relationship between property size (in terms of land square feet) and sale price in Cook County?\n",
    "2. Is there a relationship between the age of a property and its sale price?"
   ]
  },
  {
   "cell_type": "markdown",
   "metadata": {
    "deletable": false,
    "editable": false
   },
   "source": [
    "<!-- END QUESTION -->\n",
    "\n",
    "<!-- BEGIN QUESTION -->\n",
    "\n",
    "<br><br>\n",
    "\n",
    "---\n",
    "## Question 1d\n",
    "\n",
    "Suppose now, in addition to the information already contained in the dataset, you also have access to several new columns containing demographic data about the owner, including race/ethnicity, gender, age, annual income, and occupation. Provide one new question about housing in Cook County that can be answered using at least one column of demographic data and at least one column of existing data and provide the type of analytical tool you would use to answer it."
   ]
  },
  {
   "cell_type": "markdown",
   "metadata": {},
   "source": [
    "How does the race/ethnicity of property owners relate to the property class (e.g., residential, commercial) in Cook County?"
   ]
  },
  {
   "cell_type": "markdown",
   "metadata": {
    "deletable": false,
    "editable": false,
    "nbgrader": {
     "grade": false,
     "grade_id": "cell-ba0f6926b0dafefb",
     "locked": true,
     "schema_version": 1,
     "solution": false
    }
   },
   "source": [
    "<!-- END QUESTION -->\n",
    "\n",
    "<br/><br/>\n",
    "<hr style=\"border: 1px solid #fdb515;\" />\n",
    "\n",
    "# Part 2: Exploratory Data Analysis\n",
    "\n",
    "This dataset was collected by the [Cook County Assessor's Office](https://datacatalog.cookcountyil.gov/Property-Taxation/Archive-Cook-County-Assessor-s-Residential-Sales-D/5pge-nu6u) in order to build a model to predict the monetary value of a home. You can read more about data collection in the CCAO’s [Residential Data Integrity Preliminary Report](https://gitlab.com/ccao-data-science---modeling/ccao_sf_cama_dev/-/blob/master/documentation/Preliminary%20Report%20on%20Data%20Integrity%20June%207,%202019.pdf). In Project A2, you will be building a linear regression model that predicts sales prices using training data, but it's important to first understand how the structure of the data informs such a model. In this section, we will make a series of exploratory visualizations and feature engineering in preparation for that prediction task.\n",
    "\n",
    "Note that we will perform EDA on the **training data**.\n",
    "\n",
    "### Sale Price\n",
    "We begin by examining the distribution of our target variable `Sale Price`. We have provided the following helper method `plot_distribution` that you can use to visualize the distribution of the `Sale Price` using both the histogram and the box plot at the same time. Run the following 2 cells."
   ]
  },
  {
   "cell_type": "code",
   "execution_count": 159,
   "metadata": {
    "nbgrader": {
     "grade": false,
     "grade_id": "cell-15d483a695655cea",
     "locked": true,
     "schema_version": 1,
     "solution": false
    }
   },
   "outputs": [],
   "source": [
    "def plot_distribution(data, label):\n",
    "    fig, axs = plt.subplots(nrows=2)\n",
    "\n",
    "    sns.distplot(\n",
    "        data[label], \n",
    "        ax=axs[0]\n",
    "    )\n",
    "    sns.boxplot(\n",
    "        x=data[label],\n",
    "        width=0.3, \n",
    "        ax=axs[1],\n",
    "        showfliers=False,\n",
    "    )\n",
    "\n",
    "    # Align axes\n",
    "    spacer = np.max(data[label]) * 0.05\n",
    "    xmin = np.min(data[label]) - spacer\n",
    "    xmax = np.max(data[label]) + spacer\n",
    "    axs[0].set_xlim((xmin, xmax))\n",
    "    axs[1].set_xlim((xmin, xmax))\n",
    "\n",
    "    # Remove some axis text\n",
    "    axs[0].xaxis.set_visible(False)\n",
    "    axs[0].yaxis.set_visible(False)\n",
    "    axs[1].yaxis.set_visible(False)\n",
    "\n",
    "    # Put the two plots together\n",
    "    plt.subplots_adjust(hspace=0)\n",
    "    fig.suptitle(\"Distribution of \" + label)"
   ]
  },
  {
   "cell_type": "code",
   "execution_count": 160,
   "metadata": {},
   "outputs": [
    {
     "data": {
      "image/png": "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",
      "text/plain": [
       "<Figure size 1200x900 with 2 Axes>"
      ]
     },
     "metadata": {},
     "output_type": "display_data"
    }
   ],
   "source": [
    "plot_distribution(training_data, label='Sale Price')"
   ]
  },
  {
   "cell_type": "markdown",
   "metadata": {},
   "source": [
    "At the same time, we also take a look at some descriptive statistics of this variable. Run the following cell."
   ]
  },
  {
   "cell_type": "code",
   "execution_count": 161,
   "metadata": {},
   "outputs": [
    {
     "data": {
      "text/plain": [
       "count    2.047920e+05\n",
       "mean     2.451646e+05\n",
       "std      3.628694e+05\n",
       "min      1.000000e+00\n",
       "25%      4.520000e+04\n",
       "50%      1.750000e+05\n",
       "75%      3.120000e+05\n",
       "max      7.100000e+07\n",
       "Name: Sale Price, dtype: float64"
      ]
     },
     "execution_count": 161,
     "metadata": {},
     "output_type": "execute_result"
    }
   ],
   "source": [
    "training_data['Sale Price'].describe()"
   ]
  },
  {
   "cell_type": "markdown",
   "metadata": {
    "deletable": false,
    "editable": false
   },
   "source": [
    "<!-- BEGIN QUESTION -->\n",
    "\n",
    "<br><br>\n",
    "\n",
    "---\n",
    "## Question 2a\n",
    "\n",
    "Using the plots above and the descriptive statistics from `training_data['Sale Price'].describe()` in the cells above, identify one issue with the visualization above and briefly describe one way to overcome it. "
   ]
  },
  {
   "cell_type": "markdown",
   "metadata": {},
   "source": [
    "An issue with the visualization above is that the graph and data are represented on a very small scale as we are using scientific notation but the scale range needs to be adjusted. So, a way to overcome this is it adjust the x Sale Price values so that the graphs can be seen better visually. "
   ]
  },
  {
   "cell_type": "markdown",
   "metadata": {
    "deletable": false,
    "editable": false
   },
   "source": [
    "<!-- END QUESTION -->\n",
    "\n"
   ]
  },
  {
   "cell_type": "code",
   "execution_count": 162,
   "metadata": {},
   "outputs": [],
   "source": [
    "# optional cell for scratch work"
   ]
  },
  {
   "cell_type": "markdown",
   "metadata": {
    "deletable": false,
    "editable": false
   },
   "source": [
    "<br><br>\n",
    "\n",
    "---\n",
    "## Question 2b\n",
    "\n",
    "To zoom in on the visualization of most households, we will focus only on a subset of `Sale Price` for this assignment. In addition, it may be a good idea to apply log transformation to `Sale Price`. In the cell below, reassign `training_data` to a new dataframe that is the same as the original one **except with the following changes**:\n",
    "\n",
    "- `training_data` should contain only households whose price is at least $500.\n",
    "- `training_data` should contain a new `Log Sale Price` column that contains the log-transformed sale prices.\n",
    "\n",
    "**You should NOT remove the original column `Sale Price` as it will be helpful for later questions.** If you accidentally remove it, just restart your kernel and run the cells again.\n",
    "\n",
    "**Note**: This also implies from now on, our target variable in the model will be the log-transformed sale prices from the column `Log Sale Price`. \n",
    "\n",
    "*To ensure that any error from this part does not propagate to later questions, there will be no hidden tests for this question.*\n",
    "\n"
   ]
  },
  {
   "cell_type": "code",
   "execution_count": 163,
   "metadata": {
    "tags": []
   },
   "outputs": [],
   "source": [
    "training_data = training_data[training_data['Sale Price'] >= 500]\n",
    "training_data['Log Sale Price'] = np.log(training_data['Sale Price'])"
   ]
  },
  {
   "cell_type": "code",
   "execution_count": 164,
   "metadata": {
    "deletable": false,
    "editable": false
   },
   "outputs": [
    {
     "data": {
      "text/html": [
       "<p><strong><pre style='display: inline;'>q2b</pre></strong> passed! 🍀</p>"
      ],
      "text/plain": [
       "q2b results: All test cases passed!"
      ]
     },
     "execution_count": 164,
     "metadata": {},
     "output_type": "execute_result"
    }
   ],
   "source": [
    "grader.check(\"q2b\")"
   ]
  },
  {
   "cell_type": "markdown",
   "metadata": {},
   "source": [
    "Let's create a new distribution plot on the log-transformed sale price. As a sanity check, you should see that the distribution for the Log Scale Price is much more uniform."
   ]
  },
  {
   "cell_type": "code",
   "execution_count": 165,
   "metadata": {},
   "outputs": [
    {
     "data": {
      "image/png": "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",
      "text/plain": [
       "<Figure size 1200x900 with 2 Axes>"
      ]
     },
     "metadata": {},
     "output_type": "display_data"
    }
   ],
   "source": [
    "plot_distribution(training_data, label='Log Sale Price');"
   ]
  },
  {
   "cell_type": "markdown",
   "metadata": {
    "deletable": false,
    "editable": false
   },
   "source": [
    "<br><br>\n",
    "\n",
    "---\n",
    "## Question 3a\n",
    "\n",
    "\n",
    "Is the following statement correct? Assign your answer to `q3statement`.\n",
    "\n",
    "     \"At least 25% of the properties in the training set sold for more than $200,000.00.\"\n",
    "\n",
    "**Note:** The provided test for this question does not confirm that you have answered correctly; only that you have assigned each variable to `True` or `False`.\n"
   ]
  },
  {
   "cell_type": "code",
   "execution_count": 166,
   "metadata": {
    "nbgrader": {
     "grade": false,
     "grade_id": "q1-answer",
     "locked": false,
     "schema_version": 1,
     "solution": true
    },
    "tags": []
   },
   "outputs": [],
   "source": [
    "# This should be set to True or False\n",
    "q3statement = True"
   ]
  },
  {
   "cell_type": "code",
   "execution_count": 167,
   "metadata": {
    "deletable": false,
    "editable": false
   },
   "outputs": [
    {
     "data": {
      "text/html": [
       "<p><strong><pre style='display: inline;'>q3a</pre></strong> passed! 💯</p>"
      ],
      "text/plain": [
       "q3a results: All test cases passed!"
      ]
     },
     "execution_count": 167,
     "metadata": {},
     "output_type": "execute_result"
    }
   ],
   "source": [
    "grader.check(\"q3a\")"
   ]
  },
  {
   "cell_type": "markdown",
   "metadata": {
    "deletable": false,
    "editable": false
   },
   "source": [
    "<br><br>\n",
    "\n",
    "---\n",
    "## Question 3b\n",
    "\n",
    "Next, we want to explore if there is any correlation between `Log Sale Price` and the total area occupied by the property. The `codebook.txt` file tells us the column `Building Square Feet` should do the trick -- it measures \"(from the exterior) the total area, in square feet, occupied by the building\".\n",
    "\n",
    "Let's also apply a log transformation to the `Building Square Feet` column.\n",
    "\n",
    "In the following cell, create a new column `Log Building Square Feet` in our `training_data` that contains the log-transformed area occupied by each property. \n",
    "\n",
    "**You should NOT remove the original `Building Square Feet` column this time, as it will be used for later questions**. If you accidentally remove it, just restart your kernel and run the cells again.\n",
    "\n",
    "*To ensure that any errors from this part do not propagate to later questions, there will be no hidden tests for this question.*\n"
   ]
  },
  {
   "cell_type": "code",
   "execution_count": 168,
   "metadata": {
    "tags": []
   },
   "outputs": [],
   "source": [
    "training_data['Log Building Square Feet'] = np.log(training_data['Building Square Feet'])"
   ]
  },
  {
   "cell_type": "code",
   "execution_count": 169,
   "metadata": {
    "deletable": false,
    "editable": false
   },
   "outputs": [
    {
     "data": {
      "text/html": [
       "<p><strong><pre style='display: inline;'>q3b</pre></strong> passed! 🍀</p>"
      ],
      "text/plain": [
       "q3b results: All test cases passed!"
      ]
     },
     "execution_count": 169,
     "metadata": {},
     "output_type": "execute_result"
    }
   ],
   "source": [
    "grader.check(\"q3b\")"
   ]
  },
  {
   "cell_type": "markdown",
   "metadata": {
    "deletable": false,
    "editable": false
   },
   "source": [
    "<!-- BEGIN QUESTION -->\n",
    "\n",
    "<br><br>\n",
    "\n",
    "---\n",
    "## Question 3c\n",
    "\n",
    "In the visualization below, we created a `jointplot` with `Log Building Square Feet` on the x-axis, and `Log Sale Price` on the y-axis. In addition, we fit a simple linear regression line through the bivariate scatter plot in the middle.\n",
    "\n",
    "Based on the following plot, would `Log Building Square Feet` make a good candidate as one of the features for our model? Why or why not?\n",
    "\n",
    "**Hint:** To help answer this question, ask yourself: what kind of relationship does a “good” feature share with the target variable we aim to predict?\n",
    "\n",
    "![Joint Plot](images/q2p3_jointplot.png)\n"
   ]
  },
  {
   "cell_type": "markdown",
   "metadata": {},
   "source": [
    "Since the scatter plot shows a positive linear relationship between Log Building Square Feet and Log Sale Price, it suggests that Log Building Square Feet could be a strong predictor for our model. This implies that as the area occupied by a property increases, the sale price tends to increase proportionally. A linear regression line fitted through the data points further supports this trend."
   ]
  },
  {
   "cell_type": "markdown",
   "metadata": {
    "deletable": false,
    "editable": false
   },
   "source": [
    "<!-- END QUESTION -->\n",
    "\n",
    "<br><br>\n",
    "\n",
    "---\n",
    "## Question 4\n",
    "\n",
    "Continuing from the previous part, as you explore the dataset, you might still run into more outliers that prevent you from creating a clear visualization or capturing the trend of the majority of the houses. \n",
    "\n",
    "For this assignment, we will work to remove these outliers from the data as we run into them. Write a function `remove_outliers` that removes outliers from the dataset based off a threshold value of a variable. For example, `remove_outliers(training_data, 'Building Square Feet', lower=500, upper=8000)` should return a copy of `data` with only observations that satisfy `Building Square Feet` less than or equal to 8000 (inclusive) and `Building Square Feet` greater than 500 (exclusive).\n",
    "\n",
    "**Note:** The provided tests simply check that the `remove_outliers` function you defined does not mutate the input data inplace. However, the provided tests do not check that you have implemented `remove_outliers` correctly so that it works with any data, variable, lower, and upper bound."
   ]
  },
  {
   "cell_type": "code",
   "execution_count": 170,
   "metadata": {
    "nbgrader": {
     "grade": false,
     "grade_id": "cell-9186ec2ca053d0aa",
     "locked": false,
     "schema_version": 1,
     "solution": true
    },
    "tags": []
   },
   "outputs": [],
   "source": [
    "def remove_outliers(data, variable, lower=-np.inf, upper=np.inf):\n",
    "    \"\"\"\n",
    "    Input:\n",
    "      data (DataFrame): the table to be filtered\n",
    "      variable (string): the column with numerical outliers\n",
    "      lower (numeric): observations with values lower than or equal to this will be removed\n",
    "      upper (numeric): observations with values higher than this will be removed\n",
    "    \n",
    "    Output:\n",
    "      a DataFrame with outliers removed\n",
    "      \n",
    "    Note: This function should not change mutate the contents of data.\n",
    "    \"\"\"  \n",
    "    filtered_data = data[(data[variable] >= lower) & (data[variable] <= upper)]\n",
    "    return filtered_data"
   ]
  },
  {
   "cell_type": "code",
   "execution_count": 171,
   "metadata": {
    "deletable": false,
    "editable": false
   },
   "outputs": [
    {
     "data": {
      "text/html": [
       "<p><strong><pre style='display: inline;'>q4</pre></strong> passed! 🚀</p>"
      ],
      "text/plain": [
       "q4 results: All test cases passed!"
      ]
     },
     "execution_count": 171,
     "metadata": {},
     "output_type": "execute_result"
    }
   ],
   "source": [
    "grader.check(\"q4\")"
   ]
  },
  {
   "cell_type": "markdown",
   "metadata": {
    "deletable": false,
    "editable": false
   },
   "source": [
    "<br/><br/>\n",
    "<hr style=\"border: 1px solid #fdb515;\" />\n",
    "\n",
    "# Part 3: Feature Engineering\n",
    "\n",
    "In this section, we will walk you through a few feature engineering techniques. \n",
    "\n",
    "### Bedrooms\n",
    "\n",
    "Let's start simple by extracting the total number of bedrooms as our first feature for the model. You may notice that the `Bedrooms` column doesn't actually exist in the original `DataFrame`! Instead, it is part of the `Description` column.\n",
    "\n",
    "<br><br>\n",
    "\n",
    "---\n",
    "## Question 5a\n",
    "\n",
    "Let's take a closer look at the `Description` column first. Compare the description across a few rows together at the same time. For the following list of variables, how many of them can be extracted from the `Description` column? Assign your answer to a list of integers corresponding to the statements that you think are true (ie. `[1, 2, 3]`).\n",
    "\n",
    "1. The date the property was sold on.\n",
    "2. The number of stories the property contains.\n",
    "3. The previous owner of the property.\n",
    "4. The address of the property.\n",
    "5. The number of garages the property has.\n",
    "6. The total number of rooms inside the property.\n",
    "7. The total number of bedrooms inside the property.\n",
    "8. The total number of bathrooms inside the property."
   ]
  },
  {
   "cell_type": "code",
   "execution_count": 172,
   "metadata": {
    "deletable": false,
    "editable": false
   },
   "outputs": [],
   "source": [
    "# optional cell for scratch work "
   ]
  },
  {
   "cell_type": "code",
   "execution_count": 173,
   "metadata": {
    "tags": []
   },
   "outputs": [],
   "source": [
    "q5a = [6, 7, 8]"
   ]
  },
  {
   "cell_type": "code",
   "execution_count": 174,
   "metadata": {
    "deletable": false,
    "editable": false
   },
   "outputs": [
    {
     "data": {
      "text/html": [
       "<p><strong><pre style='display: inline;'>q5a</pre></strong> passed! 🎉</p>"
      ],
      "text/plain": [
       "q5a results: All test cases passed!"
      ]
     },
     "execution_count": 174,
     "metadata": {},
     "output_type": "execute_result"
    }
   ],
   "source": [
    "grader.check(\"q5a\")"
   ]
  },
  {
   "cell_type": "code",
   "execution_count": 175,
   "metadata": {},
   "outputs": [],
   "source": [
    "# optional cell for scratch work"
   ]
  },
  {
   "cell_type": "markdown",
   "metadata": {
    "deletable": false,
    "editable": false
   },
   "source": [
    "<br><br>\n",
    "\n",
    "---\n",
    "## Question 5b\n",
    "\n",
    "Write a function `add_total_bedrooms(data)` that returns a copy of `data` with an additional column called `Bedrooms` that contains the total number of bedrooms (**as integers**) for each house. Treat missing values as zeros, if necessary. Remember that you can make use of vectorized code here; you shouldn't need any `for` statements. \n",
    "\n",
    "**Hint**: You should consider inspecting the `Description` column to figure out if there is any general structure within the text. Once you have noticed a certain pattern, you are set with the power of Regex!\n"
   ]
  },
  {
   "cell_type": "code",
   "execution_count": 176,
   "metadata": {
    "tags": []
   },
   "outputs": [],
   "source": [
    "def add_total_bedrooms(data):\n",
    "    \"\"\"\n",
    "    Input:\n",
    "      data (DataFrame): a DataFrame containing at least the Description column.\n",
    "\n",
    "    Output:\n",
    "      a Dataframe with a new column \"Bedrooms\" containing ints.\n",
    "\n",
    "    \"\"\"\n",
    "    with_rooms = data.copy()\n",
    "    with_rooms['Bedrooms'] = with_rooms['Description'].str.extract(r\"(\\d+) of which are bedrooms\").astype(int)\n",
    "    return with_rooms\n",
    "\n",
    "training_data = add_total_bedrooms(training_data)"
   ]
  },
  {
   "cell_type": "code",
   "execution_count": 177,
   "metadata": {
    "deletable": false,
    "editable": false
   },
   "outputs": [
    {
     "data": {
      "text/html": [
       "<p><strong><pre style='display: inline;'>q5b</pre></strong> passed! 🙌</p>"
      ],
      "text/plain": [
       "q5b results: All test cases passed!"
      ]
     },
     "execution_count": 177,
     "metadata": {},
     "output_type": "execute_result"
    }
   ],
   "source": [
    "grader.check(\"q5b\")"
   ]
  },
  {
   "cell_type": "markdown",
   "metadata": {
    "deletable": false,
    "editable": false
   },
   "source": [
    "<!-- BEGIN QUESTION -->\n",
    "\n",
    "<br><br>\n",
    "\n",
    "---\n",
    "## Question 5c\n",
    "\n",
    "Create a visualization that clearly and succinctly shows if there exists an association between  `Bedrooms` and `Log Sale Price`. A good visualization should satisfy the following requirements:\n",
    "- It should avoid overplotting.\n",
    "- It should have clearly labeled axes and a succinct title.\n",
    "- It should convey the strength of the correlation between `Sale Price` and the number of rooms: in other words, you should be able to look at the plot and describe the general relationship between `Log Sale Price` and `Bedrooms`\n",
    "\n",
    "**Hint**: A direct scatter plot of the `Sale Price` against the number of rooms for all of the households in our training data might risk overplotting.\n"
   ]
  },
  {
   "cell_type": "code",
   "execution_count": 178,
   "metadata": {
    "tags": []
   },
   "outputs": [
    {
     "data": {
      "image/png": "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",
      "text/plain": [
       "<Figure size 1200x900 with 1 Axes>"
      ]
     },
     "metadata": {},
     "output_type": "display_data"
    }
   ],
   "source": [
    "sns.boxplot(x='Bedrooms', y='Log Sale Price', data=training_data)\n",
    "plt.title('Association between Bedrooms and Log Sale Price')\n",
    "plt.xlabel('Bedrooms')\n",
    "plt.ylabel('Log Sale Price')\n",
    "plt.show()"
   ]
  },
  {
   "cell_type": "markdown",
   "metadata": {
    "deletable": false,
    "editable": false
   },
   "source": [
    "<!-- END QUESTION -->\n",
    "\n",
    "Now, let's take a look at the relationship between neighborhood and sale prices of the houses in our dataset.\n",
    "Notice that currently we don't have the actual names for the neighborhoods. Instead we will use a similar column `Neighborhood Code` (which is a numerical encoding of the actual neighborhoods by the Assessment office)."
   ]
  },
  {
   "cell_type": "markdown",
   "metadata": {
    "deletable": false,
    "editable": false
   },
   "source": [
    "<br><br>\n",
    "\n",
    "---\n",
    "## Question 6a\n",
    "\n",
    "Before creating any visualization, let's quickly inspect how many different neighborhoods we are dealing with.\n",
    "\n",
    "Assign the variable `num_neighborhoods` with the total number of unique neighborhoods in `training_data`. \n"
   ]
  },
  {
   "cell_type": "code",
   "execution_count": 179,
   "metadata": {
    "tags": []
   },
   "outputs": [
    {
     "data": {
      "text/plain": [
       "193"
      ]
     },
     "execution_count": 179,
     "metadata": {},
     "output_type": "execute_result"
    }
   ],
   "source": [
    "num_neighborhoods = len(training_data['Neighborhood Code'].unique())\n",
    "num_neighborhoods"
   ]
  },
  {
   "cell_type": "code",
   "execution_count": 180,
   "metadata": {
    "deletable": false,
    "editable": false
   },
   "outputs": [
    {
     "data": {
      "text/html": [
       "<p><strong><pre style='display: inline;'>q6a</pre></strong> passed! 🙌</p>"
      ],
      "text/plain": [
       "q6a results: All test cases passed!"
      ]
     },
     "execution_count": 180,
     "metadata": {},
     "output_type": "execute_result"
    }
   ],
   "source": [
    "grader.check(\"q6a\")"
   ]
  },
  {
   "cell_type": "markdown",
   "metadata": {},
   "source": [
    "<br><br>\n",
    "\n",
    "---\n",
    "## Question 6b\n",
    "\n",
    "If we try directly plotting the distribution of `Log Sale Price` for all of the households in each neighborhood using the `plot_categorical` function from the next cell, we would get the following visualization.\n",
    "\n",
    "\n",
    "![overplot](images/q5p2_catplot.png)\n"
   ]
  },
  {
   "cell_type": "code",
   "execution_count": 181,
   "metadata": {
    "scrolled": true
   },
   "outputs": [],
   "source": [
    "def plot_categorical(neighborhoods):\n",
    "    fig, axs = plt.subplots(nrows=2)\n",
    "\n",
    "    sns.boxplot(\n",
    "        x='Neighborhood Code',\n",
    "        y='Log Sale Price',\n",
    "        data=neighborhoods,\n",
    "        ax=axs[0],\n",
    "    )\n",
    "\n",
    "    sns.countplot(\n",
    "        x='Neighborhood Code',\n",
    "        data=neighborhoods,\n",
    "        ax=axs[1],\n",
    "    )\n",
    "\n",
    "    # Draw median price\n",
    "    axs[0].axhline(\n",
    "        y=training_data['Log Sale Price'].median(), \n",
    "        color='red',\n",
    "        linestyle='dotted'\n",
    "    )\n",
    "\n",
    "    # Label the bars with counts\n",
    "    for patch in axs[1].patches:\n",
    "        x = patch.get_bbox().get_points()[:, 0]\n",
    "        y = patch.get_bbox().get_points()[1, 1]\n",
    "        axs[1].annotate(f'{int(y)}', (x.mean(), y), ha='center', va='bottom')\n",
    "\n",
    "    # Format x-axes\n",
    "    axs[1].set_xticklabels(axs[1].xaxis.get_majorticklabels(), rotation=90)\n",
    "    axs[0].xaxis.set_visible(False)\n",
    "\n",
    "    # Narrow the gap between the plots\n",
    "    plt.subplots_adjust(hspace=0.01)"
   ]
  },
  {
   "cell_type": "markdown",
   "metadata": {
    "deletable": false,
    "editable": false
   },
   "source": [
    "Oh no, looks like we have run into the problem of overplotting again! \n",
    "\n",
    "You might have noticed that the graph is overplotted because **there are actually quite a few neighborhoods in our dataset**! For the clarity of our visualization, we will have to zoom in again on a few of them. The reason for this is our visualization will become quite cluttered with a super dense x-axis.\n",
    "\n",
    "Assign the variable `in_top_20_neighborhoods` to a copy of `training_data` that has been filtered to only contain rows corresponding to properties that are in one of the top 20 most populous neighborhoods. We define the “top 20 neighborhoods” as being the 20 neighborhood codes that have the greatest number of properties within them.\n"
   ]
  },
  {
   "cell_type": "code",
   "execution_count": 182,
   "metadata": {
    "tags": []
   },
   "outputs": [],
   "source": [
    "top_20_neighborhood_codes = training_data['Neighborhood Code'].value_counts().sort_values(ascending = False).head(20).index\n",
    "in_top_20_neighborhoods = training_data[training_data['Neighborhood Code'].isin(top_20_neighborhood_codes)]"
   ]
  },
  {
   "cell_type": "code",
   "execution_count": 183,
   "metadata": {
    "deletable": false,
    "editable": false
   },
   "outputs": [
    {
     "data": {
      "text/html": [
       "<p><strong><pre style='display: inline;'>q6b</pre></strong> passed! 🌈</p>"
      ],
      "text/plain": [
       "q6b results: All test cases passed!"
      ]
     },
     "execution_count": 183,
     "metadata": {},
     "output_type": "execute_result"
    }
   ],
   "source": [
    "grader.check(\"q6b\")"
   ]
  },
  {
   "cell_type": "markdown",
   "metadata": {},
   "source": [
    "Let's create another of the distribution of sale price within in each neighborhood again, but this time with a narrower focus!"
   ]
  },
  {
   "cell_type": "code",
   "execution_count": 184,
   "metadata": {},
   "outputs": [
    {
     "data": {
      "image/png": "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",
      "text/plain": [
       "<Figure size 1200x900 with 2 Axes>"
      ]
     },
     "metadata": {},
     "output_type": "display_data"
    }
   ],
   "source": [
    "plot_categorical(neighborhoods=in_top_20_neighborhoods)"
   ]
  },
  {
   "cell_type": "markdown",
   "metadata": {
    "deletable": false,
    "editable": false
   },
   "source": [
    "<br><br>\n",
    "\n",
    "---\n",
    "## Question 6c\n",
    "\n",
    "From the plot above, we can see that there is much less data available for some neighborhoods. For example, Neighborhood 71 has only around 27% of the number of datapoints as Neighborhood 30.\n",
    "\n",
    "One way we can deal with the lack of data from some neighborhoods is to create a new feature that bins neighborhoods together. We’ll categorize our neighborhoods in a crude way. In Question 6c, we’ll compute how “expensive” each neighborhood is by aggregating the `Log Sale Price`s for all properties in a particular neighborhood using a `metric`, such as the median. We’ll use this `metric` to find the top `n` most expensive neighborhoods. Then, in Question 6d, we’ll label these “expensive neighborhoods” and leave all other neighborhoods unmarked.\n",
    "\n",
    "Fill in `find_expensive_neighborhoods` to return a **list** of the neighborhood codes of the **top `n`** most expensive neighborhoods as measured by our choice of aggregating function, `metric`.\n",
    "\n",
    "For example, calling `find_expensive_neighborhoods(training_data, n=3, metric=np.median)` should return the 3 neighborhood codes with the highest median `Log Sale Price` computed across all properties in those neighborhood codes. \n",
    "\n"
   ]
  },
  {
   "cell_type": "code",
   "execution_count": 185,
   "metadata": {
    "tags": []
   },
   "outputs": [
    {
     "data": {
      "text/plain": [
       "[44, 94, 93]"
      ]
     },
     "execution_count": 185,
     "metadata": {},
     "output_type": "execute_result"
    }
   ],
   "source": [
    "def find_expensive_neighborhoods(data, n=3, metric=np.median):\n",
    "    \"\"\"\n",
    "    Input:\n",
    "      data (DataFrame): should contain at least a int-valued 'Neighborhood Code'\n",
    "        and a numeric 'Log Sale Price' column\n",
    "      n (int): the number of top values desired\n",
    "      metric (function): function used for aggregating the data in each neighborhood.\n",
    "        for example, np.median for median prices\n",
    "    \n",
    "    Output:\n",
    "      a list of the the neighborhood codes of the top n highest-priced neighborhoods \n",
    "      as measured by the metric function\n",
    "    \"\"\"\n",
    "    neighborhoods = data.groupby('Neighborhood Code')['Log Sale Price'].agg(metric).sort_values(ascending = False).head(n).index\n",
    "    \n",
    "    # This makes sure the final list contains the generic int type used in Python3, not specific ones used in numpy.\n",
    "    return [int(code) for code in neighborhoods]\n",
    "\n",
    "expensive_neighborhoods = find_expensive_neighborhoods(training_data, 3, np.median)\n",
    "expensive_neighborhoods"
   ]
  },
  {
   "cell_type": "code",
   "execution_count": 186,
   "metadata": {
    "deletable": false,
    "editable": false
   },
   "outputs": [
    {
     "data": {
      "text/html": [
       "<p><strong><pre style='display: inline;'>q6c</pre></strong> passed! 🚀</p>"
      ],
      "text/plain": [
       "q6c results: All test cases passed!"
      ]
     },
     "execution_count": 186,
     "metadata": {},
     "output_type": "execute_result"
    }
   ],
   "source": [
    "grader.check(\"q6c\")"
   ]
  },
  {
   "cell_type": "markdown",
   "metadata": {
    "deletable": false,
    "editable": false
   },
   "source": [
    "<br><br>\n",
    "\n",
    "---\n",
    "## Question 6d\n",
    "\n",
    "We now have a list of neighborhoods we've deemed as higher-priced than others.  Let's use that information to write an additional function `add_expensive_neighborhood` that takes in a `DataFrame` of housing data (`data`) and a list of neighborhood codes considered to be expensive (`expensive_neighborhoods`). You can think of `expensive_neighborhoods` as being the output of the function `find_expensive_neighborhoods` from Question 6c. \n",
    "\n",
    "Using these inputs, `add_expensive_neighborhood` should add a column to `data` named `in_expensive_neighborhood` that takes on the **integer** value of 1 if a property is part of a neighborhood in `expensive_neighborhoods` and the integer value of 0 if it is not. This type of variable is known as an **indicator variable**.\n",
    "\n",
    "**Hint:** [`pd.Series.astype`](https://pandas.pydata.org/pandas-docs/version/0.23.4/generated/pandas.Series.astype.html) may be useful for converting `True`/`False` values to integers.\n"
   ]
  },
  {
   "cell_type": "code",
   "execution_count": 187,
   "metadata": {
    "tags": []
   },
   "outputs": [],
   "source": [
    "def add_in_expensive_neighborhood(data, expensive_neighborhoods):\n",
    "    \"\"\"\n",
    "    Input:\n",
    "      data (DataFrame): a DataFrame containing a 'Neighborhood Code' column with values\n",
    "        found in the codebook\n",
    "      neighborhoods (list of strings): strings should be the names of neighborhoods\n",
    "        pre-identified as expensive\n",
    "    Output:\n",
    "      DataFrame identical to the input with the addition of a binary\n",
    "      in_expensive_neighborhood column\n",
    "    \"\"\"\n",
    "    data['in_expensive_neighborhood'] = data['Neighborhood Code'].isin(expensive_neighborhoods).astype(int)\n",
    "    return data\n",
    "\n",
    "expensive_neighborhoods = find_expensive_neighborhoods(training_data, 3, np.median)\n",
    "training_data = add_in_expensive_neighborhood(training_data, expensive_neighborhoods)"
   ]
  },
  {
   "cell_type": "code",
   "execution_count": 188,
   "metadata": {
    "deletable": false,
    "editable": false
   },
   "outputs": [
    {
     "data": {
      "text/html": [
       "<p><strong><pre style='display: inline;'>q6d</pre></strong> passed! 🌟</p>"
      ],
      "text/plain": [
       "q6d results: All test cases passed!"
      ]
     },
     "execution_count": 188,
     "metadata": {},
     "output_type": "execute_result"
    }
   ],
   "source": [
    "grader.check(\"q6d\")"
   ]
  },
  {
   "cell_type": "markdown",
   "metadata": {},
   "source": [
    "In the following question, we will take a closer look at the `Roof Material` feature of the dataset and examine how we can incorporate categorical features into our linear model."
   ]
  },
  {
   "cell_type": "markdown",
   "metadata": {
    "deletable": false,
    "editable": false
   },
   "source": [
    "<br><br>\n",
    "\n",
    "---\n",
    "## Question 7a\n",
    "\n",
    "If we look at `codebook.txt` carefully, we can see that the Assessor's Office uses the following mapping for the numerical values in the `Roof Material` column.\n",
    "```\n",
    "Roof Material (Nominal): \n",
    "\n",
    "       1    Shingle/Asphalt\n",
    "       2    Tar & Gravel\n",
    "       3    Slate\n",
    "       4    Shake\n",
    "       5    Tile\n",
    "       6    Other\n",
    "```\n",
    "\n",
    "Write a function `substitute_roof_material` that replaces each numerical value in `Roof Material` with their corresponding roof material. Your function should return a new `DataFrame`, not modify the existing `DataFrame`.\n",
    "\n",
    "**Hint**: the `DataFrame.replace` ([documentation](https://pandas.pydata.org/pandas-docs/stable/generated/pandas.DataFrame.replace.html)) method may be useful here.\n",
    "\n"
   ]
  },
  {
   "cell_type": "code",
   "execution_count": 189,
   "metadata": {
    "tags": []
   },
   "outputs": [
    {
     "data": {
      "text/html": [
       "<div>\n",
       "<style scoped>\n",
       "    .dataframe tbody tr th:only-of-type {\n",
       "        vertical-align: middle;\n",
       "    }\n",
       "\n",
       "    .dataframe tbody tr th {\n",
       "        vertical-align: top;\n",
       "    }\n",
       "\n",
       "    .dataframe thead th {\n",
       "        text-align: right;\n",
       "    }\n",
       "</style>\n",
       "<table border=\"1\" class=\"dataframe\">\n",
       "  <thead>\n",
       "    <tr style=\"text-align: right;\">\n",
       "      <th></th>\n",
       "      <th>PIN</th>\n",
       "      <th>Property Class</th>\n",
       "      <th>Neighborhood Code</th>\n",
       "      <th>Land Square Feet</th>\n",
       "      <th>Town Code</th>\n",
       "      <th>Apartments</th>\n",
       "      <th>Wall Material</th>\n",
       "      <th>Roof Material</th>\n",
       "      <th>Basement</th>\n",
       "      <th>Basement Finish</th>\n",
       "      <th>...</th>\n",
       "      <th>Pure Market Filter</th>\n",
       "      <th>Garage Indicator</th>\n",
       "      <th>Neigborhood Code (mapping)</th>\n",
       "      <th>Town and Neighborhood</th>\n",
       "      <th>Description</th>\n",
       "      <th>Lot Size</th>\n",
       "      <th>Log Sale Price</th>\n",
       "      <th>Log Building Square Feet</th>\n",
       "      <th>Bedrooms</th>\n",
       "      <th>in_expensive_neighborhood</th>\n",
       "    </tr>\n",
       "  </thead>\n",
       "  <tbody>\n",
       "    <tr>\n",
       "      <th>1</th>\n",
       "      <td>13272240180000</td>\n",
       "      <td>202</td>\n",
       "      <td>120</td>\n",
       "      <td>3780.0</td>\n",
       "      <td>71</td>\n",
       "      <td>0.0</td>\n",
       "      <td>2.0</td>\n",
       "      <td>Shingle/Asphalt</td>\n",
       "      <td>1.0</td>\n",
       "      <td>1.0</td>\n",
       "      <td>...</td>\n",
       "      <td>1</td>\n",
       "      <td>1.0</td>\n",
       "      <td>120</td>\n",
       "      <td>71120</td>\n",
       "      <td>This property, sold on 05/23/2018, is a one-st...</td>\n",
       "      <td>3780.0</td>\n",
       "      <td>12.560244</td>\n",
       "      <td>6.904751</td>\n",
       "      <td>3</td>\n",
       "      <td>0</td>\n",
       "    </tr>\n",
       "    <tr>\n",
       "      <th>2</th>\n",
       "      <td>25221150230000</td>\n",
       "      <td>202</td>\n",
       "      <td>210</td>\n",
       "      <td>4375.0</td>\n",
       "      <td>70</td>\n",
       "      <td>0.0</td>\n",
       "      <td>2.0</td>\n",
       "      <td>Shingle/Asphalt</td>\n",
       "      <td>2.0</td>\n",
       "      <td>3.0</td>\n",
       "      <td>...</td>\n",
       "      <td>1</td>\n",
       "      <td>1.0</td>\n",
       "      <td>210</td>\n",
       "      <td>70210</td>\n",
       "      <td>This property, sold on 02/18/2016, is a one-st...</td>\n",
       "      <td>4375.0</td>\n",
       "      <td>9.998798</td>\n",
       "      <td>6.810142</td>\n",
       "      <td>3</td>\n",
       "      <td>0</td>\n",
       "    </tr>\n",
       "    <tr>\n",
       "      <th>3</th>\n",
       "      <td>10251130030000</td>\n",
       "      <td>203</td>\n",
       "      <td>220</td>\n",
       "      <td>4375.0</td>\n",
       "      <td>17</td>\n",
       "      <td>0.0</td>\n",
       "      <td>3.0</td>\n",
       "      <td>Shingle/Asphalt</td>\n",
       "      <td>1.0</td>\n",
       "      <td>3.0</td>\n",
       "      <td>...</td>\n",
       "      <td>1</td>\n",
       "      <td>1.0</td>\n",
       "      <td>220</td>\n",
       "      <td>17220</td>\n",
       "      <td>This property, sold on 07/23/2013, is a one-st...</td>\n",
       "      <td>4375.0</td>\n",
       "      <td>12.323856</td>\n",
       "      <td>7.068172</td>\n",
       "      <td>3</td>\n",
       "      <td>0</td>\n",
       "    </tr>\n",
       "    <tr>\n",
       "      <th>4</th>\n",
       "      <td>31361040550000</td>\n",
       "      <td>202</td>\n",
       "      <td>120</td>\n",
       "      <td>8400.0</td>\n",
       "      <td>32</td>\n",
       "      <td>0.0</td>\n",
       "      <td>3.0</td>\n",
       "      <td>Shingle/Asphalt</td>\n",
       "      <td>2.0</td>\n",
       "      <td>3.0</td>\n",
       "      <td>...</td>\n",
       "      <td>1</td>\n",
       "      <td>1.0</td>\n",
       "      <td>120</td>\n",
       "      <td>32120</td>\n",
       "      <td>This property, sold on 06/10/2016, is a one-st...</td>\n",
       "      <td>8400.0</td>\n",
       "      <td>10.025705</td>\n",
       "      <td>6.855409</td>\n",
       "      <td>2</td>\n",
       "      <td>0</td>\n",
       "    </tr>\n",
       "    <tr>\n",
       "      <th>6</th>\n",
       "      <td>30314240080000</td>\n",
       "      <td>203</td>\n",
       "      <td>181</td>\n",
       "      <td>10890.0</td>\n",
       "      <td>37</td>\n",
       "      <td>0.0</td>\n",
       "      <td>1.0</td>\n",
       "      <td>Shingle/Asphalt</td>\n",
       "      <td>1.0</td>\n",
       "      <td>3.0</td>\n",
       "      <td>...</td>\n",
       "      <td>1</td>\n",
       "      <td>1.0</td>\n",
       "      <td>181</td>\n",
       "      <td>37181</td>\n",
       "      <td>This property, sold on 10/26/2017, is a one-st...</td>\n",
       "      <td>10890.0</td>\n",
       "      <td>11.512925</td>\n",
       "      <td>7.458186</td>\n",
       "      <td>4</td>\n",
       "      <td>0</td>\n",
       "    </tr>\n",
       "  </tbody>\n",
       "</table>\n",
       "<p>5 rows × 66 columns</p>\n",
       "</div>"
      ],
      "text/plain": [
       "              PIN  Property Class  Neighborhood Code  Land Square Feet  \\\n",
       "1  13272240180000             202                120            3780.0   \n",
       "2  25221150230000             202                210            4375.0   \n",
       "3  10251130030000             203                220            4375.0   \n",
       "4  31361040550000             202                120            8400.0   \n",
       "6  30314240080000             203                181           10890.0   \n",
       "\n",
       "   Town Code  Apartments  Wall Material    Roof Material  Basement  \\\n",
       "1         71         0.0            2.0  Shingle/Asphalt       1.0   \n",
       "2         70         0.0            2.0  Shingle/Asphalt       2.0   \n",
       "3         17         0.0            3.0  Shingle/Asphalt       1.0   \n",
       "4         32         0.0            3.0  Shingle/Asphalt       2.0   \n",
       "6         37         0.0            1.0  Shingle/Asphalt       1.0   \n",
       "\n",
       "   Basement Finish  ...  Pure Market Filter  Garage Indicator  \\\n",
       "1              1.0  ...                   1               1.0   \n",
       "2              3.0  ...                   1               1.0   \n",
       "3              3.0  ...                   1               1.0   \n",
       "4              3.0  ...                   1               1.0   \n",
       "6              3.0  ...                   1               1.0   \n",
       "\n",
       "   Neigborhood Code (mapping)  Town and Neighborhood  \\\n",
       "1                         120                  71120   \n",
       "2                         210                  70210   \n",
       "3                         220                  17220   \n",
       "4                         120                  32120   \n",
       "6                         181                  37181   \n",
       "\n",
       "                                         Description  Lot Size  \\\n",
       "1  This property, sold on 05/23/2018, is a one-st...    3780.0   \n",
       "2  This property, sold on 02/18/2016, is a one-st...    4375.0   \n",
       "3  This property, sold on 07/23/2013, is a one-st...    4375.0   \n",
       "4  This property, sold on 06/10/2016, is a one-st...    8400.0   \n",
       "6  This property, sold on 10/26/2017, is a one-st...   10890.0   \n",
       "\n",
       "   Log Sale Price  Log Building Square Feet  Bedrooms  \\\n",
       "1       12.560244                  6.904751         3   \n",
       "2        9.998798                  6.810142         3   \n",
       "3       12.323856                  7.068172         3   \n",
       "4       10.025705                  6.855409         2   \n",
       "6       11.512925                  7.458186         4   \n",
       "\n",
       "   in_expensive_neighborhood  \n",
       "1                          0  \n",
       "2                          0  \n",
       "3                          0  \n",
       "4                          0  \n",
       "6                          0  \n",
       "\n",
       "[5 rows x 66 columns]"
      ]
     },
     "execution_count": 189,
     "metadata": {},
     "output_type": "execute_result"
    }
   ],
   "source": [
    "def substitute_roof_material(data):\n",
    "    \"\"\"\n",
    "    Input:\n",
    "      data (DataFrame): a DataFrame containing a 'Roof Material' column.  Its values\n",
    "                         should be limited to those found in the codebook\n",
    "    Output:\n",
    "      DataFrame identical to the input except with a refactored 'Roof Material' column\n",
    "    \"\"\"\n",
    "    mapping = {\n",
    "        1: 'Shingle/Asphalt',\n",
    "        2: 'Tar & Gravel',\n",
    "        3: 'Slate',\n",
    "        4: 'Shake',\n",
    "        5: 'Tile',\n",
    "        6: 'Other'\n",
    "    }\n",
    "    data = data.copy()\n",
    "    data['Roof Material'] = data['Roof Material'].replace(mapping)\n",
    "    return data\n",
    "    \n",
    "training_data_mapped = substitute_roof_material(training_data)\n",
    "training_data_mapped.head()"
   ]
  },
  {
   "cell_type": "code",
   "execution_count": 190,
   "metadata": {
    "deletable": false,
    "editable": false
   },
   "outputs": [
    {
     "data": {
      "text/html": [
       "<p><strong><pre style='display: inline;'>q7a</pre></strong> passed! 🚀</p>"
      ],
      "text/plain": [
       "q7a results: All test cases passed!"
      ]
     },
     "execution_count": 190,
     "metadata": {},
     "output_type": "execute_result"
    }
   ],
   "source": [
    "grader.check(\"q7a\")"
   ]
  },
  {
   "cell_type": "markdown",
   "metadata": {
    "deletable": false,
    "editable": false
   },
   "source": [
    "<br><br>\n",
    "\n",
    "---\n",
    "## Question 7b\n",
    "\n",
    "#### An Important Note on One Hot Encoding \n",
    "\n",
    "Unfortunately, simply replacing the integers with the appropriate strings isn’t sufficient for using `Roof Material` in our model.  Since `Roof Material` is a categorical variable, we will have to one-hot-encode the data. For more information on why we want to use one-hot-encoding, refer to this [link](https://machinelearningmastery.com/why-one-hot-encode-data-in-machine-learning/).\n",
    "\n",
    "Complete the following function `ohe_roof_material` that returns a `DataFrame` with the new column one-hot-encoded on the roof material of the household. These new columns should have the form `Roof Material_MATERIAL`. Your function should return a new `DataFrame` and **should not modify the existing `DataFrame`**.\n",
    "\n",
    "You should use Scikit-learn’s `OneHotEncoder` to perform the one-hot-encoding. `OneHotEncoder` will automatically generate column names of the form `Roof Material_MATERIAL`. Refer back to the video walkthrough for Question 1 of Lab 7 for an example of its use. Note that unlike in the lab example, in this problem we only wish to construct the one-hot-encoding columns **without removing any columns**."
   ]
  },
  {
   "cell_type": "code",
   "execution_count": 191,
   "metadata": {
    "tags": []
   },
   "outputs": [
    {
     "data": {
      "text/html": [
       "<div>\n",
       "<style scoped>\n",
       "    .dataframe tbody tr th:only-of-type {\n",
       "        vertical-align: middle;\n",
       "    }\n",
       "\n",
       "    .dataframe tbody tr th {\n",
       "        vertical-align: top;\n",
       "    }\n",
       "\n",
       "    .dataframe thead th {\n",
       "        text-align: right;\n",
       "    }\n",
       "</style>\n",
       "<table border=\"1\" class=\"dataframe\">\n",
       "  <thead>\n",
       "    <tr style=\"text-align: right;\">\n",
       "      <th></th>\n",
       "      <th>Roof Material_Other</th>\n",
       "      <th>Roof Material_Shake</th>\n",
       "      <th>Roof Material_Shingle/Asphalt</th>\n",
       "      <th>Roof Material_Slate</th>\n",
       "      <th>Roof Material_Tar &amp; Gravel</th>\n",
       "      <th>Roof Material_Tile</th>\n",
       "    </tr>\n",
       "  </thead>\n",
       "  <tbody>\n",
       "    <tr>\n",
       "      <th>1</th>\n",
       "      <td>False</td>\n",
       "      <td>False</td>\n",
       "      <td>True</td>\n",
       "      <td>False</td>\n",
       "      <td>False</td>\n",
       "      <td>False</td>\n",
       "    </tr>\n",
       "    <tr>\n",
       "      <th>2</th>\n",
       "      <td>False</td>\n",
       "      <td>False</td>\n",
       "      <td>True</td>\n",
       "      <td>False</td>\n",
       "      <td>False</td>\n",
       "      <td>False</td>\n",
       "    </tr>\n",
       "    <tr>\n",
       "      <th>3</th>\n",
       "      <td>False</td>\n",
       "      <td>False</td>\n",
       "      <td>True</td>\n",
       "      <td>False</td>\n",
       "      <td>False</td>\n",
       "      <td>False</td>\n",
       "    </tr>\n",
       "    <tr>\n",
       "      <th>4</th>\n",
       "      <td>False</td>\n",
       "      <td>False</td>\n",
       "      <td>True</td>\n",
       "      <td>False</td>\n",
       "      <td>False</td>\n",
       "      <td>False</td>\n",
       "    </tr>\n",
       "    <tr>\n",
       "      <th>6</th>\n",
       "      <td>False</td>\n",
       "      <td>False</td>\n",
       "      <td>True</td>\n",
       "      <td>False</td>\n",
       "      <td>False</td>\n",
       "      <td>False</td>\n",
       "    </tr>\n",
       "    <tr>\n",
       "      <th>7</th>\n",
       "      <td>False</td>\n",
       "      <td>False</td>\n",
       "      <td>True</td>\n",
       "      <td>False</td>\n",
       "      <td>False</td>\n",
       "      <td>False</td>\n",
       "    </tr>\n",
       "    <tr>\n",
       "      <th>8</th>\n",
       "      <td>False</td>\n",
       "      <td>False</td>\n",
       "      <td>False</td>\n",
       "      <td>False</td>\n",
       "      <td>True</td>\n",
       "      <td>False</td>\n",
       "    </tr>\n",
       "    <tr>\n",
       "      <th>9</th>\n",
       "      <td>False</td>\n",
       "      <td>False</td>\n",
       "      <td>True</td>\n",
       "      <td>False</td>\n",
       "      <td>False</td>\n",
       "      <td>False</td>\n",
       "    </tr>\n",
       "    <tr>\n",
       "      <th>10</th>\n",
       "      <td>False</td>\n",
       "      <td>False</td>\n",
       "      <td>True</td>\n",
       "      <td>False</td>\n",
       "      <td>False</td>\n",
       "      <td>False</td>\n",
       "    </tr>\n",
       "    <tr>\n",
       "      <th>11</th>\n",
       "      <td>False</td>\n",
       "      <td>False</td>\n",
       "      <td>True</td>\n",
       "      <td>False</td>\n",
       "      <td>False</td>\n",
       "      <td>False</td>\n",
       "    </tr>\n",
       "  </tbody>\n",
       "</table>\n",
       "</div>"
      ],
      "text/plain": [
       "    Roof Material_Other  Roof Material_Shake  Roof Material_Shingle/Asphalt  \\\n",
       "1                 False                False                           True   \n",
       "2                 False                False                           True   \n",
       "3                 False                False                           True   \n",
       "4                 False                False                           True   \n",
       "6                 False                False                           True   \n",
       "7                 False                False                           True   \n",
       "8                 False                False                          False   \n",
       "9                 False                False                           True   \n",
       "10                False                False                           True   \n",
       "11                False                False                           True   \n",
       "\n",
       "    Roof Material_Slate  Roof Material_Tar & Gravel  Roof Material_Tile  \n",
       "1                 False                       False               False  \n",
       "2                 False                       False               False  \n",
       "3                 False                       False               False  \n",
       "4                 False                       False               False  \n",
       "6                 False                       False               False  \n",
       "7                 False                       False               False  \n",
       "8                 False                        True               False  \n",
       "9                 False                       False               False  \n",
       "10                False                       False               False  \n",
       "11                False                       False               False  "
      ]
     },
     "execution_count": 191,
     "metadata": {},
     "output_type": "execute_result"
    }
   ],
   "source": [
    "from sklearn.preprocessing import OneHotEncoder\n",
    "\n",
    "def ohe_roof_material(data):\n",
    "    \"\"\"\n",
    "    One-hot-encodes roof material. New columns are of the form \"Roof Material_MATERIAL\".\n",
    "    \"\"\"\n",
    "    roof_material_encoded = pd.get_dummies(data['Roof Material'], prefix='Roof Material')\n",
    "    data_ohe = pd.concat([data, roof_material_encoded], axis=1)\n",
    "    return data_ohe\n",
    "\n",
    "training_data_ohe = ohe_roof_material(training_data_mapped)\n",
    "# This line of code will display only the one-hot-encoded columns in training_data_ohe that \n",
    "# have names that begin with “Roof Material_\" \n",
    "training_data_ohe.filter(regex='^Roof Material_').head(10)"
   ]
  },
  {
   "cell_type": "code",
   "execution_count": 192,
   "metadata": {
    "deletable": false,
    "editable": false
   },
   "outputs": [
    {
     "data": {
      "text/html": [
       "<p><strong><pre style='display: inline;'>q7b</pre></strong> passed! 🍀</p>"
      ],
      "text/plain": [
       "q7b results: All test cases passed!"
      ]
     },
     "execution_count": 192,
     "metadata": {},
     "output_type": "execute_result"
    }
   ],
   "source": [
    "grader.check(\"q7b\")"
   ]
  },
  {
   "cell_type": "markdown",
   "metadata": {},
   "source": [
    "<br/><br/>\n",
    "<hr style=\"border: 5px solid #003262;\" />\n",
    "<hr style=\"border: 1px solid #fdb515;\" />\n",
    "\n",
    "## Sonia congratulates you for finishing Project A1!\n",
    "\n",
    "<div align=\"middle\">\n",
    "    <table style=\"width:100%\">\n",
    "      <tr align=\"center\">\n",
    "        <td><img src=\"images/sonia_1.jpeg\" align=\"middle\" width=\"250vw\" />\n",
    "        </td>\n",
    "        <td><img src=\"images/sonia_2.jpeg\" align=\"middle\" width=\"250vw\" />\n",
    "        </td>\n",
    "          <td><img src=\"images/sonia_3.jpeg\" align=\"middle\" width=\"250vw\" />\n",
    "        </td>\n",
    "      </tr>\n",
    "    </table>\n",
    "  </div>\n",
    "\n",
    "What's next? In Project A2, you will focus on building a linear regression model to predict house prices. You will be well-prepared to build such a model: you have considered what is in this dataset, what it can be used for, and engineered some features that should be useful for prediction. However, before we proceed in creating a house-pricing model for Cook County, we will need to consider some challenging social implications that this model may carry. We’ll explore these in greater detail in Lecture 15.\n",
    "\n",
    "\n",
    "Below, you will see two cells. Running the first cell will automatically generate a PDF of all questions that need to be manually graded, and running the second cell will automatically generate a zip with your autograded answers. **You are responsible for both the coding portion (the zip from Project A1) and the written portion (the PDF with from Project A1) to their respective Gradescope portals.** The coding proportion should be submitted to Project A1 Coding as a single zip file, and the written portion should be submitted to Project A1 Written as a single pdf file. When submitting the written portion, please ensure you select pages appropriately. \n",
    "\n",
    "If there are issues with automatically generating the PDF in the first cell, you can try downloading the notebook as a PDF by clicking on `File -> Save and Export Notebook As... -> PDF`. If that doesn't work either, you can manually take screenshots of your answers to the manually graded questions and submit those. "
   ]
  },
  {
   "cell_type": "markdown",
   "metadata": {
    "deletable": false,
    "editable": false
   },
   "source": [
    "## Submission\n",
    "\n",
    "Make sure you have run all cells in your notebook in order before running the cell below, so that all images/graphs appear in the output. The cell below will generate a zip file for you to submit. **Please save before exporting!**\n",
    "\n",
    "After you have run the cell below and generated the zip file, you can open the PDF <a href='projA1.pdf' download>here</a>."
   ]
  },
  {
   "cell_type": "code",
   "execution_count": null,
   "metadata": {
    "deletable": false,
    "editable": false
   },
   "outputs": [],
   "source": [
    "# Save your notebook first, then run this cell to export your submission.\n",
    "grader.export(run_tests=True)"
   ]
  },
  {
   "cell_type": "markdown",
   "metadata": {},
   "source": [
    " "
   ]
  }
 ],
 "metadata": {
  "celltoolbar": "Create Assignment",
  "kernelspec": {
   "display_name": "Python 3 (ipykernel)",
   "language": "python",
   "name": "python3"
  },
  "language_info": {
   "codemirror_mode": {
    "name": "ipython",
    "version": 3
   },
   "file_extension": ".py",
   "mimetype": "text/x-python",
   "name": "python",
   "nbconvert_exporter": "python",
   "pygments_lexer": "ipython3",
   "version": "3.11.0"
  },
  "otter": {
   "OK_FORMAT": true,
   "tests": {
    "q2b": {
     "name": "q2b",
     "points": 1,
     "suites": [
      {
       "cases": [
        {
         "code": ">>> 'Sale Price' in training_data.columns # check that \"Sale Price\" is still in the training_data table\nTrue",
         "hidden": false,
         "locked": false
        },
        {
         "code": ">>> 'Log Sale Price' in training_data.columns\nTrue",
         "hidden": false,
         "locked": false
        },
        {
         "code": ">>> np.isclose(training_data['Log Sale Price'].sum(), 2055590.7351105125, atol=0.00001)\nTrue",
         "hidden": false,
         "locked": false
        }
       ],
       "scored": true,
       "setup": "",
       "teardown": "",
       "type": "doctest"
      }
     ]
    },
    "q3a": {
     "name": "q3a",
     "points": 1,
     "suites": [
      {
       "cases": [
        {
         "code": ">>> q3statement in [True, False]\nTrue",
         "hidden": false,
         "locked": false
        }
       ],
       "scored": true,
       "setup": "",
       "teardown": "",
       "type": "doctest"
      }
     ]
    },
    "q3b": {
     "name": "q3b",
     "points": 1,
     "suites": [
      {
       "cases": [
        {
         "code": ">>> 'Building Square Feet' in training_data.columns  #check that \"Building Square Feet\" is still in the training_data table\nTrue",
         "hidden": false,
         "locked": false
        },
        {
         "code": ">>> 'Log Building Square Feet' in training_data.columns\nTrue",
         "hidden": false,
         "locked": false
        },
        {
         "code": ">>> np.isclose(training_data['Log Building Square Feet'].mean(), 7.2914293261161)\nTrue",
         "hidden": false,
         "locked": false
        },
        {
         "code": ">>> \n",
         "hidden": false,
         "locked": false
        }
       ],
       "scored": true,
       "setup": "",
       "teardown": "",
       "type": "doctest"
      }
     ]
    },
    "q4": {
     "name": "q4",
     "points": 2,
     "suites": [
      {
       "cases": [
        {
         "code": ">>> # Make sure that remove_outliers doesn't mutate its input\n>>> remove_outliers(training_data, 'Building Square Feet', upper=2000).shape != training_data.shape\nTrue",
         "hidden": false,
         "locked": false
        }
       ],
       "scored": true,
       "setup": "",
       "teardown": "",
       "type": "doctest"
      }
     ]
    },
    "q5a": {
     "name": "q5a",
     "points": 1,
     "suites": [
      {
       "cases": [
        {
         "code": ">>> isinstance(q5a, list) == True\nTrue",
         "hidden": false,
         "locked": false
        },
        {
         "code": ">>> isinstance(q5a[0], int) == True\nTrue",
         "hidden": false,
         "locked": false
        }
       ],
       "scored": true,
       "setup": "",
       "teardown": "",
       "type": "doctest"
      }
     ]
    },
    "q5b": {
     "name": "q5b",
     "points": 2,
     "suites": [
      {
       "cases": [
        {
         "code": ">>> not training_data['Bedrooms'].isnull().any() # Check that missing values are dealt with\nTrue",
         "hidden": false,
         "locked": false
        },
        {
         "code": ">>> pd.api.types.is_integer_dtype(training_data['Bedrooms']) # Check that Bedrooms are ints\nTrue",
         "hidden": false,
         "locked": false
        }
       ],
       "scored": true,
       "setup": "",
       "teardown": "",
       "type": "doctest"
      }
     ]
    },
    "q6a": {
     "name": "q6a",
     "points": 1,
     "suites": [
      {
       "cases": [
        {
         "code": ">>> isinstance(num_neighborhoods, int)\nTrue",
         "hidden": false,
         "locked": false
        }
       ],
       "scored": true,
       "setup": "",
       "teardown": "",
       "type": "doctest"
      }
     ]
    },
    "q6b": {
     "name": "q6b",
     "points": 2,
     "suites": [
      {
       "cases": [
        {
         "code": ">>> len(in_top_20_neighborhoods['Neighborhood Code'].unique()) == 20\nTrue",
         "hidden": false,
         "locked": false
        },
        {
         "code": ">>> in_top_20_neighborhoods['Neighborhood Code'].iloc[0] == 120\nTrue",
         "hidden": false,
         "locked": false
        }
       ],
       "scored": true,
       "setup": "",
       "teardown": "",
       "type": "doctest"
      }
     ]
    },
    "q6c": {
     "name": "q6c",
     "points": 2,
     "suites": [
      {
       "cases": [
        {
         "code": ">>> len(find_expensive_neighborhoods(training_data, 5, np.median)) == 5\nTrue",
         "hidden": false,
         "locked": false
        },
        {
         "code": ">>> isinstance(expensive_neighborhoods, list)\nTrue",
         "hidden": false,
         "locked": false
        },
        {
         "code": ">>> set(find_expensive_neighborhoods(training_data, 2, np.min)) == set([106, 580])\nTrue",
         "hidden": false,
         "locked": false
        }
       ],
       "scored": true,
       "setup": "",
       "teardown": "",
       "type": "doctest"
      }
     ]
    },
    "q6d": {
     "name": "q6d",
     "points": 1,
     "suites": [
      {
       "cases": [
        {
         "code": ">>> (sum(training_data.loc[:, 'in_expensive_neighborhood']) == 1290) and (sum(training_data.loc[:, 'in_expensive_neighborhood'].isnull()) == 0)\nTrue",
         "hidden": false,
         "locked": false
        }
       ],
       "scored": true,
       "setup": "",
       "teardown": "",
       "type": "doctest"
      }
     ]
    },
    "q7a": {
     "name": "q7a",
     "points": 1,
     "suites": [
      {
       "cases": [
        {
         "code": ">>> set(training_data_mapped['Roof Material'].unique()) == set(['Shingle/Asphalt', 'Tar & Gravel', 'Other', 'Tile', 'Shake', 'Slate'])\nTrue",
         "hidden": false,
         "locked": false
        }
       ],
       "scored": true,
       "setup": "",
       "teardown": "",
       "type": "doctest"
      }
     ]
    },
    "q7b": {
     "name": "q7b",
     "points": 2,
     "suites": [
      {
       "cases": [
        {
         "code": ">>> training_data_ohe.shape == (168931, 72)\nTrue",
         "hidden": false,
         "locked": false
        },
        {
         "code": ">>> expected_ohe_cols = set(['Roof Material_Other', 'Roof Material_Shake', 'Roof Material_Shingle/Asphalt' ,'Roof Material_Slate', 'Roof Material_Tar & Gravel', 'Roof Material_Tile'])\n>>> expected_ohe_cols.issubset(set(training_data_ohe.columns)) == True\nTrue",
         "hidden": false,
         "locked": false
        }
       ],
       "scored": true,
       "setup": "",
       "teardown": "",
       "type": "doctest"
      }
     ]
    }
   }
  }
 },
 "nbformat": 4,
 "nbformat_minor": 4
}
